{
 "cells": [
  {
   "cell_type": "code",
   "execution_count": 1,
   "metadata": {},
   "outputs": [
    {
     "name": "stdout",
     "output_type": "stream",
     "text": [
      "IL6: 0.0000\n",
      "IL-1B: 0.5333\n",
      "MCP-1: 0.5333\n",
      "TNF-a: 0.0000\n",
      "CCL3: 0.0000\n",
      "CXCL1: 0.3333\n",
      "CXCL5: 0.0000\n",
      "Modularity: 0.2500\n",
      "Community 1: ['CXCL1', 'CXCL5', 'IL6', 'MCP-1']\n",
      "Community 2: ['CCL3', 'IL-1B', 'TNF-a']\n"
     ]
    }
   ],
   "source": [
    "\n",
    "import networkx as nx\n",
    "from networkx.algorithms.community import greedy_modularity_communities\n",
    "\n",
    "# Create a new graph\n",
    "G = nx.Graph()\n",
    "\n",
    "# Add edges to the graph\n",
    "edges = [\n",
    "    ('IL6', 'IL-1B'),\n",
    "    ('IL6', 'MCP-1'),\n",
    "    ('TNF-a', 'CCL3'),\n",
    "    ('TNF-a', 'IL-1B'),\n",
    "    ('CCL3', 'IL-1B'),\n",
    "    ('IL-1B', 'MCP-1'),\n",
    "    ('MCP-1', 'CXCL1'),\n",
    "    ('CXCL1', 'CXCL5')\n",
    "]\n",
    "\n",
    "G.add_edges_from(edges)\n",
    "\n",
    "# Calculate betweenness centrality\n",
    "betweenness = nx.betweenness_centrality(G)\n",
    "\n",
    "# Print the betweenness centrality for each node\n",
    "for node, centrality in betweenness.items():\n",
    "    print(f\"{node}: {centrality:.4f}\")\n",
    "\n",
    "# Calculate modularity \n",
    "\n",
    "# Find communities\n",
    "communities = list(greedy_modularity_communities(G))\n",
    "\n",
    "# Calculate modularity\n",
    "from networkx.algorithms.community.quality import modularity\n",
    "mod = modularity(G, communities)\n",
    "\n",
    "# Print the modularity score\n",
    "print(f\"Modularity: {mod:.4f}\")\n",
    "\n",
    "# Print the communities\n",
    "for i, community in enumerate(communities):\n",
    "    print(f\"Community {i+1}: {sorted(community)}\")\n",
    "\n",
    "\n"
   ]
  }
 ],
 "metadata": {
  "kernelspec": {
   "display_name": "Python 3",
   "language": "python",
   "name": "python3"
  },
  "language_info": {
   "codemirror_mode": {
    "name": "ipython",
    "version": 3
   },
   "file_extension": ".py",
   "mimetype": "text/x-python",
   "name": "python",
   "nbconvert_exporter": "python",
   "pygments_lexer": "ipython3",
   "version": "3.12.9"
  }
 },
 "nbformat": 4,
 "nbformat_minor": 2
}
